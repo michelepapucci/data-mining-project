{
 "cells": [
  {
   "cell_type": "code",
   "execution_count": 1,
   "id": "da6f6676",
   "metadata": {},
   "outputs": [],
   "source": [
    "import numpy as np\n",
    "import pandas as pd\n",
    "\n",
    "import matplotlib.pyplot as plt\n",
    "%matplotlib inline"
   ]
  },
  {
   "cell_type": "code",
   "execution_count": 2,
   "id": "55ce23ee",
   "metadata": {},
   "outputs": [],
   "source": [
    "df = pd.read_csv(\"data/data_understanding_output.csv\", skipinitialspace=True)"
   ]
  },
  {
   "cell_type": "code",
   "execution_count": 3,
   "id": "95ce28fa",
   "metadata": {},
   "outputs": [
    {
     "data": {
      "text/html": [
       "<div>\n",
       "<style scoped>\n",
       "    .dataframe tbody tr th:only-of-type {\n",
       "        vertical-align: middle;\n",
       "    }\n",
       "\n",
       "    .dataframe tbody tr th {\n",
       "        vertical-align: top;\n",
       "    }\n",
       "\n",
       "    .dataframe thead th {\n",
       "        text-align: right;\n",
       "    }\n",
       "</style>\n",
       "<table border=\"1\" class=\"dataframe\">\n",
       "  <thead>\n",
       "    <tr style=\"text-align: right;\">\n",
       "      <th></th>\n",
       "      <th>word</th>\n",
       "      <th>length</th>\n",
       "      <th>arousal</th>\n",
       "      <th>valence</th>\n",
       "      <th>dominance</th>\n",
       "      <th>concreteness</th>\n",
       "      <th>imageability</th>\n",
       "      <th>familiarity</th>\n",
       "      <th>aoa</th>\n",
       "      <th>semsize</th>\n",
       "      <th>gender</th>\n",
       "      <th>polysemy</th>\n",
       "      <th>log_freq</th>\n",
       "      <th>number_of_meanings</th>\n",
       "      <th>avg_variance_between_meanings</th>\n",
       "      <th>PoS</th>\n",
       "      <th>sentiment</th>\n",
       "    </tr>\n",
       "  </thead>\n",
       "  <tbody>\n",
       "    <tr>\n",
       "      <th>0</th>\n",
       "      <td>abattoir</td>\n",
       "      <td>8</td>\n",
       "      <td>4.200</td>\n",
       "      <td>2.864</td>\n",
       "      <td>4.333</td>\n",
       "      <td>5.455</td>\n",
       "      <td>4.391</td>\n",
       "      <td>2.382</td>\n",
       "      <td>6.760</td>\n",
       "      <td>4.652</td>\n",
       "      <td>5.391</td>\n",
       "      <td>0</td>\n",
       "      <td>5.204321</td>\n",
       "      <td>0</td>\n",
       "      <td>0.0</td>\n",
       "      <td>NOUN</td>\n",
       "      <td>1.0</td>\n",
       "    </tr>\n",
       "    <tr>\n",
       "      <th>1</th>\n",
       "      <td>abbey</td>\n",
       "      <td>5</td>\n",
       "      <td>3.125</td>\n",
       "      <td>5.781</td>\n",
       "      <td>4.667</td>\n",
       "      <td>5.906</td>\n",
       "      <td>5.344</td>\n",
       "      <td>3.324</td>\n",
       "      <td>5.177</td>\n",
       "      <td>5.121</td>\n",
       "      <td>3.303</td>\n",
       "      <td>0</td>\n",
       "      <td>6.625813</td>\n",
       "      <td>0</td>\n",
       "      <td>0.0</td>\n",
       "      <td>NOUN</td>\n",
       "      <td>1.0</td>\n",
       "    </tr>\n",
       "    <tr>\n",
       "      <th>2</th>\n",
       "      <td>abbreviate</td>\n",
       "      <td>10</td>\n",
       "      <td>3.273</td>\n",
       "      <td>5.250</td>\n",
       "      <td>5.235</td>\n",
       "      <td>3.286</td>\n",
       "      <td>3.177</td>\n",
       "      <td>5.121</td>\n",
       "      <td>5.543</td>\n",
       "      <td>2.667</td>\n",
       "      <td>3.971</td>\n",
       "      <td>0</td>\n",
       "      <td>5.146454</td>\n",
       "      <td>0</td>\n",
       "      <td>0.0</td>\n",
       "      <td>VERB</td>\n",
       "      <td>1.0</td>\n",
       "    </tr>\n",
       "    <tr>\n",
       "      <th>3</th>\n",
       "      <td>abdicate</td>\n",
       "      <td>8</td>\n",
       "      <td>4.194</td>\n",
       "      <td>3.767</td>\n",
       "      <td>4.419</td>\n",
       "      <td>3.367</td>\n",
       "      <td>2.516</td>\n",
       "      <td>3.971</td>\n",
       "      <td>6.233</td>\n",
       "      <td>4.679</td>\n",
       "      <td>5.167</td>\n",
       "      <td>0</td>\n",
       "      <td>5.093852</td>\n",
       "      <td>0</td>\n",
       "      <td>0.0</td>\n",
       "      <td>VERB</td>\n",
       "      <td>1.0</td>\n",
       "    </tr>\n",
       "    <tr>\n",
       "      <th>4</th>\n",
       "      <td>abdication</td>\n",
       "      <td>10</td>\n",
       "      <td>3.846</td>\n",
       "      <td>3.880</td>\n",
       "      <td>4.800</td>\n",
       "      <td>3.292</td>\n",
       "      <td>2.571</td>\n",
       "      <td>3.097</td>\n",
       "      <td>6.407</td>\n",
       "      <td>5.083</td>\n",
       "      <td>4.571</td>\n",
       "      <td>0</td>\n",
       "      <td>5.107695</td>\n",
       "      <td>0</td>\n",
       "      <td>0.0</td>\n",
       "      <td>NOUN</td>\n",
       "      <td>1.0</td>\n",
       "    </tr>\n",
       "  </tbody>\n",
       "</table>\n",
       "</div>"
      ],
      "text/plain": [
       "         word  length  arousal  valence  dominance  concreteness  \\\n",
       "0    abattoir       8    4.200    2.864      4.333         5.455   \n",
       "1       abbey       5    3.125    5.781      4.667         5.906   \n",
       "2  abbreviate      10    3.273    5.250      5.235         3.286   \n",
       "3    abdicate       8    4.194    3.767      4.419         3.367   \n",
       "4  abdication      10    3.846    3.880      4.800         3.292   \n",
       "\n",
       "   imageability  familiarity    aoa  semsize  gender  polysemy  log_freq  \\\n",
       "0         4.391        2.382  6.760    4.652   5.391         0  5.204321   \n",
       "1         5.344        3.324  5.177    5.121   3.303         0  6.625813   \n",
       "2         3.177        5.121  5.543    2.667   3.971         0  5.146454   \n",
       "3         2.516        3.971  6.233    4.679   5.167         0  5.093852   \n",
       "4         2.571        3.097  6.407    5.083   4.571         0  5.107695   \n",
       "\n",
       "   number_of_meanings  avg_variance_between_meanings   PoS  sentiment  \n",
       "0                   0                            0.0  NOUN        1.0  \n",
       "1                   0                            0.0  NOUN        1.0  \n",
       "2                   0                            0.0  VERB        1.0  \n",
       "3                   0                            0.0  VERB        1.0  \n",
       "4                   0                            0.0  NOUN        1.0  "
      ]
     },
     "execution_count": 3,
     "metadata": {},
     "output_type": "execute_result"
    }
   ],
   "source": [
    "df.head()"
   ]
  },
  {
   "cell_type": "markdown",
   "id": "6533d91c",
   "metadata": {},
   "source": [
    "## Feature preprocessing (light)"
   ]
  },
  {
   "cell_type": "code",
   "execution_count": 4,
   "id": "c197bf24",
   "metadata": {},
   "outputs": [],
   "source": [
    "#remove useless variables\n",
    "df= df.drop(['word','PoS', 'length', 'number_of_meanings', 'avg_variance_between_meanings', 'polysemy'], axis=1)"
   ]
  },
  {
   "cell_type": "code",
   "execution_count": 5,
   "id": "88db1142",
   "metadata": {},
   "outputs": [
    {
     "data": {
      "text/html": [
       "<div>\n",
       "<style scoped>\n",
       "    .dataframe tbody tr th:only-of-type {\n",
       "        vertical-align: middle;\n",
       "    }\n",
       "\n",
       "    .dataframe tbody tr th {\n",
       "        vertical-align: top;\n",
       "    }\n",
       "\n",
       "    .dataframe thead th {\n",
       "        text-align: right;\n",
       "    }\n",
       "</style>\n",
       "<table border=\"1\" class=\"dataframe\">\n",
       "  <thead>\n",
       "    <tr style=\"text-align: right;\">\n",
       "      <th></th>\n",
       "      <th>arousal</th>\n",
       "      <th>valence</th>\n",
       "      <th>dominance</th>\n",
       "      <th>concreteness</th>\n",
       "      <th>imageability</th>\n",
       "      <th>familiarity</th>\n",
       "      <th>aoa</th>\n",
       "      <th>semsize</th>\n",
       "      <th>gender</th>\n",
       "      <th>log_freq</th>\n",
       "      <th>sentiment</th>\n",
       "    </tr>\n",
       "  </thead>\n",
       "  <tbody>\n",
       "    <tr>\n",
       "      <th>0</th>\n",
       "      <td>4.200</td>\n",
       "      <td>2.864</td>\n",
       "      <td>4.333</td>\n",
       "      <td>5.455</td>\n",
       "      <td>4.391</td>\n",
       "      <td>2.382</td>\n",
       "      <td>6.760</td>\n",
       "      <td>4.652</td>\n",
       "      <td>5.391</td>\n",
       "      <td>5.204321</td>\n",
       "      <td>1.0</td>\n",
       "    </tr>\n",
       "    <tr>\n",
       "      <th>1</th>\n",
       "      <td>3.125</td>\n",
       "      <td>5.781</td>\n",
       "      <td>4.667</td>\n",
       "      <td>5.906</td>\n",
       "      <td>5.344</td>\n",
       "      <td>3.324</td>\n",
       "      <td>5.177</td>\n",
       "      <td>5.121</td>\n",
       "      <td>3.303</td>\n",
       "      <td>6.625813</td>\n",
       "      <td>1.0</td>\n",
       "    </tr>\n",
       "    <tr>\n",
       "      <th>2</th>\n",
       "      <td>3.273</td>\n",
       "      <td>5.250</td>\n",
       "      <td>5.235</td>\n",
       "      <td>3.286</td>\n",
       "      <td>3.177</td>\n",
       "      <td>5.121</td>\n",
       "      <td>5.543</td>\n",
       "      <td>2.667</td>\n",
       "      <td>3.971</td>\n",
       "      <td>5.146454</td>\n",
       "      <td>1.0</td>\n",
       "    </tr>\n",
       "    <tr>\n",
       "      <th>3</th>\n",
       "      <td>4.194</td>\n",
       "      <td>3.767</td>\n",
       "      <td>4.419</td>\n",
       "      <td>3.367</td>\n",
       "      <td>2.516</td>\n",
       "      <td>3.971</td>\n",
       "      <td>6.233</td>\n",
       "      <td>4.679</td>\n",
       "      <td>5.167</td>\n",
       "      <td>5.093852</td>\n",
       "      <td>1.0</td>\n",
       "    </tr>\n",
       "    <tr>\n",
       "      <th>4</th>\n",
       "      <td>3.846</td>\n",
       "      <td>3.880</td>\n",
       "      <td>4.800</td>\n",
       "      <td>3.292</td>\n",
       "      <td>2.571</td>\n",
       "      <td>3.097</td>\n",
       "      <td>6.407</td>\n",
       "      <td>5.083</td>\n",
       "      <td>4.571</td>\n",
       "      <td>5.107695</td>\n",
       "      <td>1.0</td>\n",
       "    </tr>\n",
       "  </tbody>\n",
       "</table>\n",
       "</div>"
      ],
      "text/plain": [
       "   arousal  valence  dominance  concreteness  imageability  familiarity  \\\n",
       "0    4.200    2.864      4.333         5.455         4.391        2.382   \n",
       "1    3.125    5.781      4.667         5.906         5.344        3.324   \n",
       "2    3.273    5.250      5.235         3.286         3.177        5.121   \n",
       "3    4.194    3.767      4.419         3.367         2.516        3.971   \n",
       "4    3.846    3.880      4.800         3.292         2.571        3.097   \n",
       "\n",
       "     aoa  semsize  gender  log_freq  sentiment  \n",
       "0  6.760    4.652   5.391  5.204321        1.0  \n",
       "1  5.177    5.121   3.303  6.625813        1.0  \n",
       "2  5.543    2.667   3.971  5.146454        1.0  \n",
       "3  6.233    4.679   5.167  5.093852        1.0  \n",
       "4  6.407    5.083   4.571  5.107695        1.0  "
      ]
     },
     "execution_count": 5,
     "metadata": {},
     "output_type": "execute_result"
    }
   ],
   "source": [
    "df.head()"
   ]
  },
  {
   "cell_type": "markdown",
   "id": "1606ca66",
   "metadata": {},
   "source": [
    "## Pattern mining preprocessing\n"
   ]
  },
  {
   "cell_type": "code",
   "execution_count": 6,
   "id": "cf6a69de",
   "metadata": {},
   "outputs": [],
   "source": [
    "#discreting continous variables\n",
    "df['arousalBin'] = pd.qcut(df['arousal'], 4)\n",
    "df['valenceBin'] = pd.qcut(df['valence'], 4)\n",
    "df['dominanceBin'] = pd.qcut(df['dominance'], 4)\n",
    "df['concretenessBin'] = pd.qcut(df['concreteness'], 4)\n",
    "df['imageabilityBin'] = pd.qcut(df['imageability'], 4)\n",
    "df['familiarityBin'] = pd.qcut(df['familiarity'], 4)\n",
    "df['aoaBin'] = pd.qcut(df['aoa'], 4)\n",
    "df['semsizeBin'] = pd.qcut(df['semsize'], 4)\n",
    "df['genderBin'] = pd.qcut(df['gender'], 4)\n",
    "df['log_freqBin'] = pd.qcut(df['log_freq'], 4)\n",
    "\n",
    "df.drop(['arousal', 'valence', 'dominance','concreteness','imageability','familiarity','aoa','semsize','gender','log_freq'], axis=1, inplace=True)"
   ]
  },
  {
   "cell_type": "code",
   "execution_count": 7,
   "id": "e809636f",
   "metadata": {},
   "outputs": [
    {
     "data": {
      "text/html": [
       "<div>\n",
       "<style scoped>\n",
       "    .dataframe tbody tr th:only-of-type {\n",
       "        vertical-align: middle;\n",
       "    }\n",
       "\n",
       "    .dataframe tbody tr th {\n",
       "        vertical-align: top;\n",
       "    }\n",
       "\n",
       "    .dataframe thead th {\n",
       "        text-align: right;\n",
       "    }\n",
       "</style>\n",
       "<table border=\"1\" class=\"dataframe\">\n",
       "  <thead>\n",
       "    <tr style=\"text-align: right;\">\n",
       "      <th></th>\n",
       "      <th>sentiment</th>\n",
       "      <th>arousalBin</th>\n",
       "      <th>valenceBin</th>\n",
       "      <th>dominanceBin</th>\n",
       "      <th>concretenessBin</th>\n",
       "      <th>imageabilityBin</th>\n",
       "      <th>familiarityBin</th>\n",
       "      <th>aoaBin</th>\n",
       "      <th>semsizeBin</th>\n",
       "      <th>genderBin</th>\n",
       "      <th>log_freqBin</th>\n",
       "    </tr>\n",
       "  </thead>\n",
       "  <tbody>\n",
       "    <tr>\n",
       "      <th>0</th>\n",
       "      <td>1.0</td>\n",
       "      <td>(3.849, 4.571]</td>\n",
       "      <td>(1.0290000000000001, 4.115]</td>\n",
       "      <td>(1.9400000000000002, 4.529]</td>\n",
       "      <td>(4.471, 5.971]</td>\n",
       "      <td>(3.519, 4.677]</td>\n",
       "      <td>(1.6460000000000001, 4.706]</td>\n",
       "      <td>(5.152, 6.971]</td>\n",
       "      <td>(4.186, 4.882]</td>\n",
       "      <td>(4.656, 6.971]</td>\n",
       "      <td>(4.1049999999999995, 6.223]</td>\n",
       "    </tr>\n",
       "    <tr>\n",
       "      <th>1</th>\n",
       "      <td>1.0</td>\n",
       "      <td>(2.056, 3.849]</td>\n",
       "      <td>(5.29, 6.088]</td>\n",
       "      <td>(4.529, 5.123]</td>\n",
       "      <td>(4.471, 5.971]</td>\n",
       "      <td>(4.677, 6.032]</td>\n",
       "      <td>(1.6460000000000001, 4.706]</td>\n",
       "      <td>(5.152, 6.971]</td>\n",
       "      <td>(4.882, 6.912]</td>\n",
       "      <td>(0.999, 3.606]</td>\n",
       "      <td>(6.223, 6.757]</td>\n",
       "    </tr>\n",
       "    <tr>\n",
       "      <th>2</th>\n",
       "      <td>1.0</td>\n",
       "      <td>(2.056, 3.849]</td>\n",
       "      <td>(4.115, 5.29]</td>\n",
       "      <td>(5.123, 5.6]</td>\n",
       "      <td>(3.242, 4.471]</td>\n",
       "      <td>(1.7360000000000002, 3.519]</td>\n",
       "      <td>(4.706, 5.438]</td>\n",
       "      <td>(5.152, 6.971]</td>\n",
       "      <td>(1.374, 3.438]</td>\n",
       "      <td>(3.606, 4.121]</td>\n",
       "      <td>(4.1049999999999995, 6.223]</td>\n",
       "    </tr>\n",
       "    <tr>\n",
       "      <th>3</th>\n",
       "      <td>1.0</td>\n",
       "      <td>(3.849, 4.571]</td>\n",
       "      <td>(1.0290000000000001, 4.115]</td>\n",
       "      <td>(1.9400000000000002, 4.529]</td>\n",
       "      <td>(3.242, 4.471]</td>\n",
       "      <td>(1.7360000000000002, 3.519]</td>\n",
       "      <td>(1.6460000000000001, 4.706]</td>\n",
       "      <td>(5.152, 6.971]</td>\n",
       "      <td>(4.186, 4.882]</td>\n",
       "      <td>(4.656, 6.971]</td>\n",
       "      <td>(4.1049999999999995, 6.223]</td>\n",
       "    </tr>\n",
       "    <tr>\n",
       "      <th>4</th>\n",
       "      <td>1.0</td>\n",
       "      <td>(2.056, 3.849]</td>\n",
       "      <td>(1.0290000000000001, 4.115]</td>\n",
       "      <td>(4.529, 5.123]</td>\n",
       "      <td>(3.242, 4.471]</td>\n",
       "      <td>(1.7360000000000002, 3.519]</td>\n",
       "      <td>(1.6460000000000001, 4.706]</td>\n",
       "      <td>(5.152, 6.971]</td>\n",
       "      <td>(4.882, 6.912]</td>\n",
       "      <td>(4.121, 4.656]</td>\n",
       "      <td>(4.1049999999999995, 6.223]</td>\n",
       "    </tr>\n",
       "  </tbody>\n",
       "</table>\n",
       "</div>"
      ],
      "text/plain": [
       "   sentiment      arousalBin                   valenceBin  \\\n",
       "0        1.0  (3.849, 4.571]  (1.0290000000000001, 4.115]   \n",
       "1        1.0  (2.056, 3.849]                (5.29, 6.088]   \n",
       "2        1.0  (2.056, 3.849]                (4.115, 5.29]   \n",
       "3        1.0  (3.849, 4.571]  (1.0290000000000001, 4.115]   \n",
       "4        1.0  (2.056, 3.849]  (1.0290000000000001, 4.115]   \n",
       "\n",
       "                  dominanceBin concretenessBin              imageabilityBin  \\\n",
       "0  (1.9400000000000002, 4.529]  (4.471, 5.971]               (3.519, 4.677]   \n",
       "1               (4.529, 5.123]  (4.471, 5.971]               (4.677, 6.032]   \n",
       "2                 (5.123, 5.6]  (3.242, 4.471]  (1.7360000000000002, 3.519]   \n",
       "3  (1.9400000000000002, 4.529]  (3.242, 4.471]  (1.7360000000000002, 3.519]   \n",
       "4               (4.529, 5.123]  (3.242, 4.471]  (1.7360000000000002, 3.519]   \n",
       "\n",
       "                familiarityBin          aoaBin      semsizeBin  \\\n",
       "0  (1.6460000000000001, 4.706]  (5.152, 6.971]  (4.186, 4.882]   \n",
       "1  (1.6460000000000001, 4.706]  (5.152, 6.971]  (4.882, 6.912]   \n",
       "2               (4.706, 5.438]  (5.152, 6.971]  (1.374, 3.438]   \n",
       "3  (1.6460000000000001, 4.706]  (5.152, 6.971]  (4.186, 4.882]   \n",
       "4  (1.6460000000000001, 4.706]  (5.152, 6.971]  (4.882, 6.912]   \n",
       "\n",
       "        genderBin                  log_freqBin  \n",
       "0  (4.656, 6.971]  (4.1049999999999995, 6.223]  \n",
       "1  (0.999, 3.606]               (6.223, 6.757]  \n",
       "2  (3.606, 4.121]  (4.1049999999999995, 6.223]  \n",
       "3  (4.656, 6.971]  (4.1049999999999995, 6.223]  \n",
       "4  (4.121, 4.656]  (4.1049999999999995, 6.223]  "
      ]
     },
     "execution_count": 7,
     "metadata": {},
     "output_type": "execute_result"
    }
   ],
   "source": [
    "df.head()"
   ]
  },
  {
   "cell_type": "code",
   "execution_count": 8,
   "id": "de9c066d",
   "metadata": {},
   "outputs": [],
   "source": [
    "#to understand what variable is\n",
    "df['arousalBin'] = df['arousalBin'].astype(str) + '_Arousal'\n",
    "df['valenceBin'] = df['valenceBin'].astype(str) + '_Valence'\n",
    "df['dominanceBin'] = df['dominanceBin'].astype(str) + '_Dominance'\n",
    "df['concretenessBin'] = df['concretenessBin'].astype(str) + '_Concreteness'\n",
    "df['imageabilityBin'] = df['imageabilityBin'].astype(str) + '_Imageability'\n",
    "df['familiarityBin'] = df['familiarityBin'].astype(str) + '_Familiarity'\n",
    "df['aoaBin'] = df['aoaBin'].astype(str) + '_Aoa'\n",
    "df['semsizeBin'] = df['semsizeBin'].astype(str) + '_Semsize'\n",
    "df['genderBin'] = df['genderBin'].astype(str) + '_Gender'\n",
    "df['log_freqBin'] = df['log_freqBin'].astype(str) + '_log_fre'"
   ]
  },
  {
   "cell_type": "code",
   "execution_count": 9,
   "id": "601732ac",
   "metadata": {},
   "outputs": [
    {
     "data": {
      "text/html": [
       "<div>\n",
       "<style scoped>\n",
       "    .dataframe tbody tr th:only-of-type {\n",
       "        vertical-align: middle;\n",
       "    }\n",
       "\n",
       "    .dataframe tbody tr th {\n",
       "        vertical-align: top;\n",
       "    }\n",
       "\n",
       "    .dataframe thead th {\n",
       "        text-align: right;\n",
       "    }\n",
       "</style>\n",
       "<table border=\"1\" class=\"dataframe\">\n",
       "  <thead>\n",
       "    <tr style=\"text-align: right;\">\n",
       "      <th></th>\n",
       "      <th>sentiment</th>\n",
       "      <th>arousalBin</th>\n",
       "      <th>valenceBin</th>\n",
       "      <th>dominanceBin</th>\n",
       "      <th>concretenessBin</th>\n",
       "      <th>imageabilityBin</th>\n",
       "      <th>familiarityBin</th>\n",
       "      <th>aoaBin</th>\n",
       "      <th>semsizeBin</th>\n",
       "      <th>genderBin</th>\n",
       "      <th>log_freqBin</th>\n",
       "    </tr>\n",
       "  </thead>\n",
       "  <tbody>\n",
       "    <tr>\n",
       "      <th>0</th>\n",
       "      <td>1.0</td>\n",
       "      <td>(3.849, 4.571]_Arousal</td>\n",
       "      <td>(1.0290000000000001, 4.115]_Valence</td>\n",
       "      <td>(1.9400000000000002, 4.529]_Dominance</td>\n",
       "      <td>(4.471, 5.971]_Concreteness</td>\n",
       "      <td>(3.519, 4.677]_Imageability</td>\n",
       "      <td>(1.6460000000000001, 4.706]_Familiarity</td>\n",
       "      <td>(5.152, 6.971]_Aoa</td>\n",
       "      <td>(4.186, 4.882]_Semsize</td>\n",
       "      <td>(4.656, 6.971]_Gender</td>\n",
       "      <td>(4.1049999999999995, 6.223]_log_fre</td>\n",
       "    </tr>\n",
       "    <tr>\n",
       "      <th>1</th>\n",
       "      <td>1.0</td>\n",
       "      <td>(2.056, 3.849]_Arousal</td>\n",
       "      <td>(5.29, 6.088]_Valence</td>\n",
       "      <td>(4.529, 5.123]_Dominance</td>\n",
       "      <td>(4.471, 5.971]_Concreteness</td>\n",
       "      <td>(4.677, 6.032]_Imageability</td>\n",
       "      <td>(1.6460000000000001, 4.706]_Familiarity</td>\n",
       "      <td>(5.152, 6.971]_Aoa</td>\n",
       "      <td>(4.882, 6.912]_Semsize</td>\n",
       "      <td>(0.999, 3.606]_Gender</td>\n",
       "      <td>(6.223, 6.757]_log_fre</td>\n",
       "    </tr>\n",
       "    <tr>\n",
       "      <th>2</th>\n",
       "      <td>1.0</td>\n",
       "      <td>(2.056, 3.849]_Arousal</td>\n",
       "      <td>(4.115, 5.29]_Valence</td>\n",
       "      <td>(5.123, 5.6]_Dominance</td>\n",
       "      <td>(3.242, 4.471]_Concreteness</td>\n",
       "      <td>(1.7360000000000002, 3.519]_Imageability</td>\n",
       "      <td>(4.706, 5.438]_Familiarity</td>\n",
       "      <td>(5.152, 6.971]_Aoa</td>\n",
       "      <td>(1.374, 3.438]_Semsize</td>\n",
       "      <td>(3.606, 4.121]_Gender</td>\n",
       "      <td>(4.1049999999999995, 6.223]_log_fre</td>\n",
       "    </tr>\n",
       "    <tr>\n",
       "      <th>3</th>\n",
       "      <td>1.0</td>\n",
       "      <td>(3.849, 4.571]_Arousal</td>\n",
       "      <td>(1.0290000000000001, 4.115]_Valence</td>\n",
       "      <td>(1.9400000000000002, 4.529]_Dominance</td>\n",
       "      <td>(3.242, 4.471]_Concreteness</td>\n",
       "      <td>(1.7360000000000002, 3.519]_Imageability</td>\n",
       "      <td>(1.6460000000000001, 4.706]_Familiarity</td>\n",
       "      <td>(5.152, 6.971]_Aoa</td>\n",
       "      <td>(4.186, 4.882]_Semsize</td>\n",
       "      <td>(4.656, 6.971]_Gender</td>\n",
       "      <td>(4.1049999999999995, 6.223]_log_fre</td>\n",
       "    </tr>\n",
       "    <tr>\n",
       "      <th>4</th>\n",
       "      <td>1.0</td>\n",
       "      <td>(2.056, 3.849]_Arousal</td>\n",
       "      <td>(1.0290000000000001, 4.115]_Valence</td>\n",
       "      <td>(4.529, 5.123]_Dominance</td>\n",
       "      <td>(3.242, 4.471]_Concreteness</td>\n",
       "      <td>(1.7360000000000002, 3.519]_Imageability</td>\n",
       "      <td>(1.6460000000000001, 4.706]_Familiarity</td>\n",
       "      <td>(5.152, 6.971]_Aoa</td>\n",
       "      <td>(4.882, 6.912]_Semsize</td>\n",
       "      <td>(4.121, 4.656]_Gender</td>\n",
       "      <td>(4.1049999999999995, 6.223]_log_fre</td>\n",
       "    </tr>\n",
       "  </tbody>\n",
       "</table>\n",
       "</div>"
      ],
      "text/plain": [
       "   sentiment              arousalBin                           valenceBin  \\\n",
       "0        1.0  (3.849, 4.571]_Arousal  (1.0290000000000001, 4.115]_Valence   \n",
       "1        1.0  (2.056, 3.849]_Arousal                (5.29, 6.088]_Valence   \n",
       "2        1.0  (2.056, 3.849]_Arousal                (4.115, 5.29]_Valence   \n",
       "3        1.0  (3.849, 4.571]_Arousal  (1.0290000000000001, 4.115]_Valence   \n",
       "4        1.0  (2.056, 3.849]_Arousal  (1.0290000000000001, 4.115]_Valence   \n",
       "\n",
       "                            dominanceBin              concretenessBin  \\\n",
       "0  (1.9400000000000002, 4.529]_Dominance  (4.471, 5.971]_Concreteness   \n",
       "1               (4.529, 5.123]_Dominance  (4.471, 5.971]_Concreteness   \n",
       "2                 (5.123, 5.6]_Dominance  (3.242, 4.471]_Concreteness   \n",
       "3  (1.9400000000000002, 4.529]_Dominance  (3.242, 4.471]_Concreteness   \n",
       "4               (4.529, 5.123]_Dominance  (3.242, 4.471]_Concreteness   \n",
       "\n",
       "                            imageabilityBin  \\\n",
       "0               (3.519, 4.677]_Imageability   \n",
       "1               (4.677, 6.032]_Imageability   \n",
       "2  (1.7360000000000002, 3.519]_Imageability   \n",
       "3  (1.7360000000000002, 3.519]_Imageability   \n",
       "4  (1.7360000000000002, 3.519]_Imageability   \n",
       "\n",
       "                            familiarityBin              aoaBin  \\\n",
       "0  (1.6460000000000001, 4.706]_Familiarity  (5.152, 6.971]_Aoa   \n",
       "1  (1.6460000000000001, 4.706]_Familiarity  (5.152, 6.971]_Aoa   \n",
       "2               (4.706, 5.438]_Familiarity  (5.152, 6.971]_Aoa   \n",
       "3  (1.6460000000000001, 4.706]_Familiarity  (5.152, 6.971]_Aoa   \n",
       "4  (1.6460000000000001, 4.706]_Familiarity  (5.152, 6.971]_Aoa   \n",
       "\n",
       "               semsizeBin              genderBin  \\\n",
       "0  (4.186, 4.882]_Semsize  (4.656, 6.971]_Gender   \n",
       "1  (4.882, 6.912]_Semsize  (0.999, 3.606]_Gender   \n",
       "2  (1.374, 3.438]_Semsize  (3.606, 4.121]_Gender   \n",
       "3  (4.186, 4.882]_Semsize  (4.656, 6.971]_Gender   \n",
       "4  (4.882, 6.912]_Semsize  (4.121, 4.656]_Gender   \n",
       "\n",
       "                           log_freqBin  \n",
       "0  (4.1049999999999995, 6.223]_log_fre  \n",
       "1               (6.223, 6.757]_log_fre  \n",
       "2  (4.1049999999999995, 6.223]_log_fre  \n",
       "3  (4.1049999999999995, 6.223]_log_fre  \n",
       "4  (4.1049999999999995, 6.223]_log_fre  "
      ]
     },
     "execution_count": 9,
     "metadata": {},
     "output_type": "execute_result"
    }
   ],
   "source": [
    "df.head()"
   ]
  },
  {
   "cell_type": "code",
   "execution_count": 10,
   "id": "cffd0df3",
   "metadata": {},
   "outputs": [],
   "source": [
    "#key = value of the variable and the value is the name we want to apply at this value to make a sort of legend\n",
    "surv_dict = {0.0: 'Negative', 1.0: 'Neutral',2.0: 'Positive'}\n",
    "df['sentiment'] = df['sentiment'].map(surv_dict)\n"
   ]
  },
  {
   "cell_type": "code",
   "execution_count": 11,
   "id": "66e394e7",
   "metadata": {},
   "outputs": [
    {
     "data": {
      "text/html": [
       "<div>\n",
       "<style scoped>\n",
       "    .dataframe tbody tr th:only-of-type {\n",
       "        vertical-align: middle;\n",
       "    }\n",
       "\n",
       "    .dataframe tbody tr th {\n",
       "        vertical-align: top;\n",
       "    }\n",
       "\n",
       "    .dataframe thead th {\n",
       "        text-align: right;\n",
       "    }\n",
       "</style>\n",
       "<table border=\"1\" class=\"dataframe\">\n",
       "  <thead>\n",
       "    <tr style=\"text-align: right;\">\n",
       "      <th></th>\n",
       "      <th>sentiment</th>\n",
       "      <th>arousalBin</th>\n",
       "      <th>valenceBin</th>\n",
       "      <th>dominanceBin</th>\n",
       "      <th>concretenessBin</th>\n",
       "      <th>imageabilityBin</th>\n",
       "      <th>familiarityBin</th>\n",
       "      <th>aoaBin</th>\n",
       "      <th>semsizeBin</th>\n",
       "      <th>genderBin</th>\n",
       "      <th>log_freqBin</th>\n",
       "    </tr>\n",
       "  </thead>\n",
       "  <tbody>\n",
       "    <tr>\n",
       "      <th>0</th>\n",
       "      <td>Neutral</td>\n",
       "      <td>(3.849, 4.571]_Arousal</td>\n",
       "      <td>(1.0290000000000001, 4.115]_Valence</td>\n",
       "      <td>(1.9400000000000002, 4.529]_Dominance</td>\n",
       "      <td>(4.471, 5.971]_Concreteness</td>\n",
       "      <td>(3.519, 4.677]_Imageability</td>\n",
       "      <td>(1.6460000000000001, 4.706]_Familiarity</td>\n",
       "      <td>(5.152, 6.971]_Aoa</td>\n",
       "      <td>(4.186, 4.882]_Semsize</td>\n",
       "      <td>(4.656, 6.971]_Gender</td>\n",
       "      <td>(4.1049999999999995, 6.223]_log_fre</td>\n",
       "    </tr>\n",
       "    <tr>\n",
       "      <th>1</th>\n",
       "      <td>Neutral</td>\n",
       "      <td>(2.056, 3.849]_Arousal</td>\n",
       "      <td>(5.29, 6.088]_Valence</td>\n",
       "      <td>(4.529, 5.123]_Dominance</td>\n",
       "      <td>(4.471, 5.971]_Concreteness</td>\n",
       "      <td>(4.677, 6.032]_Imageability</td>\n",
       "      <td>(1.6460000000000001, 4.706]_Familiarity</td>\n",
       "      <td>(5.152, 6.971]_Aoa</td>\n",
       "      <td>(4.882, 6.912]_Semsize</td>\n",
       "      <td>(0.999, 3.606]_Gender</td>\n",
       "      <td>(6.223, 6.757]_log_fre</td>\n",
       "    </tr>\n",
       "    <tr>\n",
       "      <th>2</th>\n",
       "      <td>Neutral</td>\n",
       "      <td>(2.056, 3.849]_Arousal</td>\n",
       "      <td>(4.115, 5.29]_Valence</td>\n",
       "      <td>(5.123, 5.6]_Dominance</td>\n",
       "      <td>(3.242, 4.471]_Concreteness</td>\n",
       "      <td>(1.7360000000000002, 3.519]_Imageability</td>\n",
       "      <td>(4.706, 5.438]_Familiarity</td>\n",
       "      <td>(5.152, 6.971]_Aoa</td>\n",
       "      <td>(1.374, 3.438]_Semsize</td>\n",
       "      <td>(3.606, 4.121]_Gender</td>\n",
       "      <td>(4.1049999999999995, 6.223]_log_fre</td>\n",
       "    </tr>\n",
       "    <tr>\n",
       "      <th>3</th>\n",
       "      <td>Neutral</td>\n",
       "      <td>(3.849, 4.571]_Arousal</td>\n",
       "      <td>(1.0290000000000001, 4.115]_Valence</td>\n",
       "      <td>(1.9400000000000002, 4.529]_Dominance</td>\n",
       "      <td>(3.242, 4.471]_Concreteness</td>\n",
       "      <td>(1.7360000000000002, 3.519]_Imageability</td>\n",
       "      <td>(1.6460000000000001, 4.706]_Familiarity</td>\n",
       "      <td>(5.152, 6.971]_Aoa</td>\n",
       "      <td>(4.186, 4.882]_Semsize</td>\n",
       "      <td>(4.656, 6.971]_Gender</td>\n",
       "      <td>(4.1049999999999995, 6.223]_log_fre</td>\n",
       "    </tr>\n",
       "    <tr>\n",
       "      <th>4</th>\n",
       "      <td>Neutral</td>\n",
       "      <td>(2.056, 3.849]_Arousal</td>\n",
       "      <td>(1.0290000000000001, 4.115]_Valence</td>\n",
       "      <td>(4.529, 5.123]_Dominance</td>\n",
       "      <td>(3.242, 4.471]_Concreteness</td>\n",
       "      <td>(1.7360000000000002, 3.519]_Imageability</td>\n",
       "      <td>(1.6460000000000001, 4.706]_Familiarity</td>\n",
       "      <td>(5.152, 6.971]_Aoa</td>\n",
       "      <td>(4.882, 6.912]_Semsize</td>\n",
       "      <td>(4.121, 4.656]_Gender</td>\n",
       "      <td>(4.1049999999999995, 6.223]_log_fre</td>\n",
       "    </tr>\n",
       "  </tbody>\n",
       "</table>\n",
       "</div>"
      ],
      "text/plain": [
       "  sentiment              arousalBin                           valenceBin  \\\n",
       "0   Neutral  (3.849, 4.571]_Arousal  (1.0290000000000001, 4.115]_Valence   \n",
       "1   Neutral  (2.056, 3.849]_Arousal                (5.29, 6.088]_Valence   \n",
       "2   Neutral  (2.056, 3.849]_Arousal                (4.115, 5.29]_Valence   \n",
       "3   Neutral  (3.849, 4.571]_Arousal  (1.0290000000000001, 4.115]_Valence   \n",
       "4   Neutral  (2.056, 3.849]_Arousal  (1.0290000000000001, 4.115]_Valence   \n",
       "\n",
       "                            dominanceBin              concretenessBin  \\\n",
       "0  (1.9400000000000002, 4.529]_Dominance  (4.471, 5.971]_Concreteness   \n",
       "1               (4.529, 5.123]_Dominance  (4.471, 5.971]_Concreteness   \n",
       "2                 (5.123, 5.6]_Dominance  (3.242, 4.471]_Concreteness   \n",
       "3  (1.9400000000000002, 4.529]_Dominance  (3.242, 4.471]_Concreteness   \n",
       "4               (4.529, 5.123]_Dominance  (3.242, 4.471]_Concreteness   \n",
       "\n",
       "                            imageabilityBin  \\\n",
       "0               (3.519, 4.677]_Imageability   \n",
       "1               (4.677, 6.032]_Imageability   \n",
       "2  (1.7360000000000002, 3.519]_Imageability   \n",
       "3  (1.7360000000000002, 3.519]_Imageability   \n",
       "4  (1.7360000000000002, 3.519]_Imageability   \n",
       "\n",
       "                            familiarityBin              aoaBin  \\\n",
       "0  (1.6460000000000001, 4.706]_Familiarity  (5.152, 6.971]_Aoa   \n",
       "1  (1.6460000000000001, 4.706]_Familiarity  (5.152, 6.971]_Aoa   \n",
       "2               (4.706, 5.438]_Familiarity  (5.152, 6.971]_Aoa   \n",
       "3  (1.6460000000000001, 4.706]_Familiarity  (5.152, 6.971]_Aoa   \n",
       "4  (1.6460000000000001, 4.706]_Familiarity  (5.152, 6.971]_Aoa   \n",
       "\n",
       "               semsizeBin              genderBin  \\\n",
       "0  (4.186, 4.882]_Semsize  (4.656, 6.971]_Gender   \n",
       "1  (4.882, 6.912]_Semsize  (0.999, 3.606]_Gender   \n",
       "2  (1.374, 3.438]_Semsize  (3.606, 4.121]_Gender   \n",
       "3  (4.186, 4.882]_Semsize  (4.656, 6.971]_Gender   \n",
       "4  (4.882, 6.912]_Semsize  (4.121, 4.656]_Gender   \n",
       "\n",
       "                           log_freqBin  \n",
       "0  (4.1049999999999995, 6.223]_log_fre  \n",
       "1               (6.223, 6.757]_log_fre  \n",
       "2  (4.1049999999999995, 6.223]_log_fre  \n",
       "3  (4.1049999999999995, 6.223]_log_fre  \n",
       "4  (4.1049999999999995, 6.223]_log_fre  "
      ]
     },
     "execution_count": 11,
     "metadata": {},
     "output_type": "execute_result"
    }
   ],
   "source": [
    "df.head()"
   ]
  },
  {
   "cell_type": "code",
   "execution_count": 12,
   "id": "c58eb7f8",
   "metadata": {},
   "outputs": [],
   "source": [
    "#we work on the list\n",
    "X = df.values.tolist()"
   ]
  },
  {
   "cell_type": "code",
   "execution_count": 13,
   "id": "fb3c581a",
   "metadata": {},
   "outputs": [
    {
     "data": {
      "text/plain": [
       "['Neutral',\n",
       " '(3.849, 4.571]_Arousal',\n",
       " '(1.0290000000000001, 4.115]_Valence',\n",
       " '(1.9400000000000002, 4.529]_Dominance',\n",
       " '(4.471, 5.971]_Concreteness',\n",
       " '(3.519, 4.677]_Imageability',\n",
       " '(1.6460000000000001, 4.706]_Familiarity',\n",
       " '(5.152, 6.971]_Aoa',\n",
       " '(4.186, 4.882]_Semsize',\n",
       " '(4.656, 6.971]_Gender',\n",
       " '(4.1049999999999995, 6.223]_log_fre']"
      ]
     },
     "execution_count": 13,
     "metadata": {},
     "output_type": "execute_result"
    }
   ],
   "source": [
    "X[0]"
   ]
  },
  {
   "cell_type": "code",
   "execution_count": 14,
   "id": "071037a9",
   "metadata": {},
   "outputs": [],
   "source": [
    "#!pip install pyfim"
   ]
  },
  {
   "cell_type": "code",
   "execution_count": 15,
   "id": "84ba0041",
   "metadata": {},
   "outputs": [],
   "source": [
    "from fim import apriori"
   ]
  },
  {
   "cell_type": "code",
   "execution_count": 16,
   "id": "bb1cdc09",
   "metadata": {},
   "outputs": [],
   "source": [
    "itemsets = apriori(X, target='s', supp=2, zmin=3, report='S')"
   ]
  },
  {
   "cell_type": "code",
   "execution_count": 17,
   "id": "d10b20a6",
   "metadata": {},
   "outputs": [
    {
     "data": {
      "text/plain": [
       "[(('Positive', '(4.177, 5.152]_Aoa', '(6.088, 8.647]_Valence'),\n",
       "  2.050405809483127),\n",
       " (('Positive', '(4.882, 6.912]_Semsize', '(5.6, 8.371]_Dominance'),\n",
       "  3.502776591200342),\n",
       " (('Positive',\n",
       "   '(4.882, 6.912]_Semsize',\n",
       "   '(5.6, 8.371]_Dominance',\n",
       "   '(6.088, 8.647]_Valence'),\n",
       "  3.4173430158052116),\n",
       " (('Positive',\n",
       "   '(4.882, 6.912]_Semsize',\n",
       "   '(5.6, 8.371]_Dominance',\n",
       "   '(6.088, 8.647]_Valence',\n",
       "   '(5.419, 8.177]_Arousal'),\n",
       "  3.182400683468603),\n",
       " (('Positive',\n",
       "   '(4.882, 6.912]_Semsize',\n",
       "   '(5.6, 8.371]_Dominance',\n",
       "   '(6.088, 8.647]_Valence',\n",
       "   '(5.419, 8.177]_Arousal',\n",
       "   '(1.635, 3.242]_Concreteness'),\n",
       "  2.4348568987612134)]"
      ]
     },
     "execution_count": 17,
     "metadata": {},
     "output_type": "execute_result"
    }
   ],
   "source": [
    "itemsets[:5]"
   ]
  },
  {
   "cell_type": "code",
   "execution_count": 18,
   "id": "0c8e8246",
   "metadata": {},
   "outputs": [
    {
     "data": {
      "text/plain": [
       "('Positive', '(4.177, 5.152]_Aoa', '(6.088, 8.647]_Valence')"
      ]
     },
     "execution_count": 18,
     "metadata": {},
     "output_type": "execute_result"
    }
   ],
   "source": [
    "# frequent itemset\n",
    "itemsets[0][0]"
   ]
  },
  {
   "cell_type": "code",
   "execution_count": 19,
   "id": "b0679536",
   "metadata": {},
   "outputs": [],
   "source": [
    "itemsets = apriori(X, target='m', supp=2, zmin=3, report='S')"
   ]
  },
  {
   "cell_type": "code",
   "execution_count": 20,
   "id": "11e69ea6",
   "metadata": {},
   "outputs": [
    {
     "data": {
      "text/plain": [
       "2.050405809483127"
      ]
     },
     "execution_count": 20,
     "metadata": {},
     "output_type": "execute_result"
    }
   ],
   "source": [
    "# support\n",
    "itemsets[0][1]"
   ]
  },
  {
   "cell_type": "markdown",
   "id": "807b9560",
   "metadata": {},
   "source": [
    "## Qui si conclude la prima parte di pattern mining, adesso ci sarebbe da analizzare la semantica dei primi 5 itemset."
   ]
  },
  {
   "cell_type": "code",
   "execution_count": 21,
   "id": "a756cb2e",
   "metadata": {},
   "outputs": [
    {
     "data": {
      "text/plain": [
       "[(('Positive', '(4.177, 5.152]_Aoa', '(6.088, 8.647]_Valence'),\n",
       "  2.050405809483127),\n",
       " (('Positive',\n",
       "   '(4.882, 6.912]_Semsize',\n",
       "   '(5.6, 8.371]_Dominance',\n",
       "   '(6.088, 8.647]_Valence',\n",
       "   '(5.419, 8.177]_Arousal',\n",
       "   '(1.635, 3.242]_Concreteness'),\n",
       "  2.4348568987612134),\n",
       " (('Positive',\n",
       "   '(4.882, 6.912]_Semsize',\n",
       "   '(6.088, 8.647]_Valence',\n",
       "   '(5.969, 6.939]_Familiarity'),\n",
       "  2.007689021785562),\n",
       " (('Positive',\n",
       "   '(4.882, 6.912]_Semsize',\n",
       "   '(6.088, 8.647]_Valence',\n",
       "   '(5.419, 8.177]_Arousal',\n",
       "   '(0.999, 3.606]_Gender'),\n",
       "  2.114480991029475),\n",
       " (('Positive',\n",
       "   '(4.882, 6.912]_Semsize',\n",
       "   '(6.088, 8.647]_Valence',\n",
       "   '(1.635, 3.242]_Concreteness',\n",
       "   '(0.999, 3.606]_Gender'),\n",
       "  2.007689021785562)]"
      ]
     },
     "execution_count": 21,
     "metadata": {},
     "output_type": "execute_result"
    }
   ],
   "source": [
    "itemsets[:5]"
   ]
  },
  {
   "cell_type": "code",
   "execution_count": 22,
   "id": "6288a0ed",
   "metadata": {},
   "outputs": [
    {
     "data": {
      "text/plain": [
       "('Positive', '(4.177, 5.152]_Aoa', '(6.088, 8.647]_Valence')"
      ]
     },
     "execution_count": 22,
     "metadata": {},
     "output_type": "execute_result"
    }
   ],
   "source": [
    "itemsets[0][0]"
   ]
  },
  {
   "cell_type": "code",
   "execution_count": 23,
   "id": "4f27615f",
   "metadata": {},
   "outputs": [
    {
     "data": {
      "image/png": "[encoded data removed]",
      "text/plain": [
       "<Figure size 432x288 with 1 Axes>"
      ]
     },
     "metadata": {
      "needs_background": "light"
     },
     "output_type": "display_data"
    }
   ],
   "source": [
    "len_max_it = []\n",
    "len_cl_it = []\n",
    "for i in range(2, 20+1):\n",
    "    max_itemsets = apriori(X, target='m', supp=i, zmin=3)\n",
    "    cl_itemsets = apriori(X, target='c', supp=i, zmin=3)\n",
    "    len_max_it.append( len(max_itemsets)  )\n",
    "    len_cl_it.append( len(cl_itemsets) )\n",
    "    \n",
    "plt.plot(len_max_it, label='maximal')\n",
    "plt.plot(len_cl_it, label='closed')\n",
    "plt.legend(fontsize=20)\n",
    "plt.xticks(fontsize=20)\n",
    "plt.xlabel('%support', fontsize=15)\n",
    "\n",
    "plt.show()"
   ]
  },
  {
   "cell_type": "code",
   "execution_count": 95,
   "id": "23483bfc",
   "metadata": {},
   "outputs": [
    {
     "data": {
      "image/png": "[encoded data removed]",
      "text/plain": [
       "<Figure size 432x288 with 1 Axes>"
      ]
     },
     "metadata": {
      "needs_background": "light"
     },
     "output_type": "display_data"
    }
   ],
   "source": [
    "#papu da quello che ho capito qui mi sa fa schifo, \n",
    "#perché la lunghezza degli itemset più frequenti\n",
    "#come si vede sopra scende a 0 quando la percentuale di support supera il 50%, da quello che ho capito è poco  \n",
    "filter_1 = []\n",
    "filter_2 = []\n",
    "filter_3 = []\n",
    "for i in range(2, 20+1):\n",
    "    max_itemsets = apriori(X, target='m', supp=i, zmin=3)\n",
    "    \n",
    "    filter_1.append( len([item for item in max_itemsets if 'Positive' in item[0]])  )\n",
    "    filter_2.append( len([item for item in max_itemsets if 'Negative' in item[0]]) )\n",
    "    filter_3.append( len([item for item in max_itemsets if 'Neutral' in item[0]]) )\n",
    "    #filtrare per qualcosa di interessante, (esempio lunghezza item set sopravvissuti e non sopravvissuti)\n",
    "plt.plot(filter_1, label='w/ Positive')\n",
    "plt.plot(filter_2, label='w/ Negative')\n",
    "plt.plot(filter_3, label='w/ Neutral')\n",
    "plt.legend(fontsize=20)\n",
    "plt.xticks(fontsize=20)\n",
    "plt.xlabel('%support', fontsize=15)\n",
    "\n",
    "plt.show()\n",
    "# qui sotto si vedrà invece che la lunghezza degli itemsets frequenti è 0 per target positive e negative \n",
    "# indipendentemente dalla percentuale di support, questa cosa non mi pare corretta\n",
    "# avrò sicuramente sbagliato qualcosa nei valori"
   ]
  },
  {
   "cell_type": "code",
   "execution_count": 96,
   "id": "9c4b4682",
   "metadata": {},
   "outputs": [],
   "source": [
    "rules = apriori(X, target='r', supp=10, zmin=3, conf=60, report='aScl')"
   ]
  },
  {
   "cell_type": "code",
   "execution_count": 71,
   "id": "89800845",
   "metadata": {},
   "outputs": [
    {
     "data": {
      "text/plain": [
       "[('(6.032, 6.941]_Imageability',\n",
       "  ('(5.971, 6.938]_Concreteness', '(5.29, 6.088]_Valence', 'Neutral'),\n",
       "  424,\n",
       "  9.05595899188381,\n",
       "  0.8888888888888888,\n",
       "  3.5570750237416906),\n",
       " ('(6.032, 6.941]_Imageability',\n",
       "  ('(5.971, 6.938]_Concreteness', '(5.29, 6.088]_Valence'),\n",
       "  426,\n",
       "  9.098675779581376,\n",
       "  0.8893528183716075,\n",
       "  3.5589315347144157),\n",
       " ('Neutral',\n",
       "  ('(5.971, 6.938]_Concreteness', '(5.29, 6.088]_Valence'),\n",
       "  477,\n",
       "  10.187953865869288,\n",
       "  0.9958246346555324,\n",
       "  1.168241277739214),\n",
       " ('(1.374, 3.438]_Semsize',\n",
       "  ('(5.971, 6.938]_Concreteness',\n",
       "   '(6.032, 6.941]_Imageability',\n",
       "   '(1.2180000000000002, 3.114]_Aoa',\n",
       "   'Neutral'),\n",
       "  320,\n",
       "  6.834686031610423,\n",
       "  0.6130268199233716,\n",
       "  2.4427162305372137),\n",
       " ('(1.374, 3.438]_Semsize',\n",
       "  ('(5.971, 6.938]_Concreteness',\n",
       "   '(6.032, 6.941]_Imageability',\n",
       "   '(1.2180000000000002, 3.114]_Aoa'),\n",
       "  326,\n",
       "  6.962836394703118,\n",
       "  0.6174242424242424,\n",
       "  2.4602385557704705)]"
      ]
     },
     "execution_count": 71,
     "metadata": {},
     "output_type": "execute_result"
    }
   ],
   "source": [
    "rules[:5]"
   ]
  },
  {
   "cell_type": "code",
   "execution_count": 72,
   "id": "dc3bda80",
   "metadata": {},
   "outputs": [
    {
     "data": {
      "text/plain": [
       "('(6.032, 6.941]_Imageability',\n",
       " ('(5.971, 6.938]_Concreteness', '(5.29, 6.088]_Valence', 'Neutral'))"
      ]
     },
     "execution_count": 72,
     "metadata": {},
     "output_type": "execute_result"
    }
   ],
   "source": [
    "rules[0][0], rules[0][1]"
   ]
  },
  {
   "cell_type": "code",
   "execution_count": 73,
   "id": "a17ad42c",
   "metadata": {},
   "outputs": [
    {
     "data": {
      "text/plain": [
       "424"
      ]
     },
     "execution_count": 73,
     "metadata": {},
     "output_type": "execute_result"
    }
   ],
   "source": [
    "# asbolute support\n",
    "rules[0][2]"
   ]
  },
  {
   "cell_type": "code",
   "execution_count": 74,
   "id": "5425db47",
   "metadata": {},
   "outputs": [
    {
     "data": {
      "text/plain": [
       "9.05595899188381"
      ]
     },
     "execution_count": 74,
     "metadata": {},
     "output_type": "execute_result"
    }
   ],
   "source": [
    "# support as percentage\n",
    "rules[0][3]"
   ]
  },
  {
   "cell_type": "code",
   "execution_count": 75,
   "id": "b362c6b2",
   "metadata": {},
   "outputs": [
    {
     "data": {
      "text/plain": [
       "0.8888888888888888"
      ]
     },
     "execution_count": 75,
     "metadata": {},
     "output_type": "execute_result"
    }
   ],
   "source": [
    "# confidence\n",
    "rules[0][4]"
   ]
  },
  {
   "cell_type": "code",
   "execution_count": 76,
   "id": "99905e51",
   "metadata": {},
   "outputs": [
    {
     "data": {
      "text/plain": [
       "3.5570750237416906"
      ]
     },
     "execution_count": 76,
     "metadata": {},
     "output_type": "execute_result"
    }
   ],
   "source": [
    "# lift\n",
    "rules[0][5]"
   ]
  },
  {
   "cell_type": "code",
   "execution_count": 83,
   "id": "4651cf22",
   "metadata": {},
   "outputs": [
    {
     "name": "stdout",
     "output_type": "stream",
     "text": [
      "('(6.032, 6.941]_Imageability', ('(5.971, 6.938]_Concreteness', '(5.29, 6.088]_Valence', 'Neutral'), 424, 9.05595899188381, 0.8888888888888888, 3.5570750237416906)\n",
      "('(6.032, 6.941]_Imageability', ('(5.971, 6.938]_Concreteness', '(5.29, 6.088]_Valence'), 426, 9.098675779581376, 0.8893528183716075, 3.5589315347144157)\n",
      "('Neutral', ('(5.971, 6.938]_Concreteness', '(5.29, 6.088]_Valence'), 477, 10.187953865869288, 0.9958246346555324, 1.168241277739214)\n",
      "('(1.374, 3.438]_Semsize', ('(5.971, 6.938]_Concreteness', '(6.032, 6.941]_Imageability', '(1.2180000000000002, 3.114]_Aoa', 'Neutral'), 320, 6.834686031610423, 0.6130268199233716, 2.4427162305372137)\n",
      "('(1.374, 3.438]_Semsize', ('(5.971, 6.938]_Concreteness', '(6.032, 6.941]_Imageability', '(1.2180000000000002, 3.114]_Aoa'), 326, 6.962836394703118, 0.6174242424242424, 2.4602385557704705)\n",
      "('(1.2180000000000002, 3.114]_Aoa', ('(5.971, 6.938]_Concreteness', '(6.032, 6.941]_Imageability', '(1.374, 3.438]_Semsize'), 326, 6.962836394703118, 0.6003683241252302, 2.3983997385275835)\n",
      "('Neutral', ('(5.971, 6.938]_Concreteness', '(6.032, 6.941]_Imageability', '(1.2180000000000002, 3.114]_Aoa'), 522, 11.149081589064503, 0.9886363636363636, 1.1598084326097355)\n",
      "('(6.032, 6.941]_Imageability', ('(5.971, 6.938]_Concreteness', '(1.2180000000000002, 3.114]_Aoa', 'Neutral'), 522, 11.149081589064503, 0.9775280898876404, 3.911783347738404)\n",
      "('(5.971, 6.938]_Concreteness', ('(6.032, 6.941]_Imageability', '(1.2180000000000002, 3.114]_Aoa', 'Neutral'), 522, 11.149081589064503, 0.8685524126455907, 3.4966142699971243)\n",
      "('(6.032, 6.941]_Imageability', ('(5.971, 6.938]_Concreteness', '(1.2180000000000002, 3.114]_Aoa'), 528, 11.277231952157198, 0.9777777777777777, 3.9127825261158593)\n",
      "('(5.971, 6.938]_Concreteness', ('(6.032, 6.941]_Imageability', '(1.2180000000000002, 3.114]_Aoa'), 528, 11.277231952157198, 0.8613376835236541, 3.4675692469972046)\n",
      "('Neutral', ('(5.971, 6.938]_Concreteness', '(6.032, 6.941]_Imageability', '(1.374, 3.438]_Semsize'), 536, 11.448099102947458, 0.9871086556169429, 1.1580162178898838)\n",
      "('(6.032, 6.941]_Imageability', ('(5.971, 6.938]_Concreteness', '(1.374, 3.438]_Semsize', 'Neutral'), 536, 11.448099102947458, 0.8874172185430463, 3.5511858266825156)\n",
      "('(5.971, 6.938]_Concreteness', ('(6.032, 6.941]_Imageability', '(1.374, 3.438]_Semsize', 'Neutral'), 536, 11.448099102947458, 0.9131175468483816, 3.676024380347483)\n",
      "('(6.032, 6.941]_Imageability', ('(5.971, 6.938]_Concreteness', '(1.374, 3.438]_Semsize'), 543, 11.597607859888937, 0.8887070376432079, 3.556347307902136)\n",
      "('(5.971, 6.938]_Concreteness', ('(6.032, 6.941]_Imageability', '(1.374, 3.438]_Semsize'), 543, 11.597607859888937, 0.9126050420168067, 3.6739611407761728)\n",
      "('(6.032, 6.941]_Imageability', ('(5.971, 6.938]_Concreteness', '(5.123, 5.6]_Dominance', 'Neutral'), 441, 9.419051687313114, 0.8945233265720081, 3.579622405991574)\n",
      "('(5.971, 6.938]_Concreteness', ('(6.032, 6.941]_Imageability', '(5.123, 5.6]_Dominance', 'Neutral'), 441, 9.419051687313114, 0.91875, 3.698699484092863)\n",
      "('(6.032, 6.941]_Imageability', ('(5.971, 6.938]_Concreteness', '(5.123, 5.6]_Dominance'), 442, 9.440410081161897, 0.8947368421052632, 3.580476833108412)\n",
      "('(5.971, 6.938]_Concreteness', ('(6.032, 6.941]_Imageability', '(5.123, 5.6]_Dominance'), 442, 9.440410081161897, 0.91701244813278, 3.691704455853548)\n",
      "('Neutral', ('(5.971, 6.938]_Concreteness', '(6.032, 6.941]_Imageability'), 992, 21.18752669799231, 0.9880478087649402, 1.1591179756044727)\n",
      "('(6.032, 6.941]_Imageability', ('(5.971, 6.938]_Concreteness', 'Neutral'), 992, 21.18752669799231, 0.8626086956521739, 3.4519093273875883)\n",
      "('(5.971, 6.938]_Concreteness', ('(6.032, 6.941]_Imageability', 'Neutral'), 992, 21.18752669799231, 0.8648648648648649, 3.4817689572633683)\n",
      "('(1.374, 3.438]_Semsize', ('(5.971, 6.938]_Concreteness', '(1.2180000000000002, 3.114]_Aoa', 'Neutral'), 326, 6.962836394703118, 0.6104868913857678, 2.432595425930353)\n",
      "('(1.374, 3.438]_Semsize', ('(5.971, 6.938]_Concreteness', '(1.2180000000000002, 3.114]_Aoa'), 332, 7.0909867577958146, 0.6148148148148148, 2.4498408195429473)\n",
      "('(5.971, 6.938]_Concreteness', ('(1.2180000000000002, 3.114]_Aoa', '(1.374, 3.438]_Semsize'), 332, 7.0909867577958146, 0.6916666666666667, 2.7845084551447408)\n",
      "('Neutral', ('(5.971, 6.938]_Concreteness', '(1.2180000000000002, 3.114]_Aoa'), 534, 11.405382315249893, 0.9888888888888889, 1.1601046799743868)\n",
      "('Neutral', ('(5.971, 6.938]_Concreteness', '(1.374, 3.438]_Semsize'), 604, 12.900469884664673, 0.9885433715220949, 1.159699339881345)\n",
      "('Neutral', ('(5.971, 6.938]_Concreteness', '(5.123, 5.6]_Dominance'), 493, 10.529688167449807, 0.9979757085020243, 1.1707647875736602)\n",
      "('(5.6, 8.371]_Dominance', ('(4.882, 6.912]_Semsize', '(6.088, 8.647]_Valence'), 345, 7.368645877829986, 0.69, 2.773030042918455)\n",
      "('(5.419, 8.177]_Arousal', ('(4.882, 6.912]_Semsize', '(6.088, 8.647]_Valence'), 375, 8.009397693293465, 0.75, 3.0012820512820513)\n",
      "('Neutral', ('(4.882, 6.912]_Semsize', '(6.088, 8.647]_Valence'), 315, 6.72789406236651, 0.63, 0.739077925331997)\n",
      "('Neutral', ('(4.882, 6.912]_Semsize', '(5.419, 8.177]_Arousal'), 422, 9.013242204186245, 0.6677215189873418, 0.7833305316709431)\n",
      "('Neutral', ('(5.29, 6.088]_Valence', '(5.123, 5.6]_Dominance'), 474, 10.12387868432294, 0.9937106918238994, 1.1657613277673509)\n",
      "('(5.6, 8.371]_Dominance', ('(6.088, 8.647]_Valence', '(5.969, 6.939]_Familiarity'), 309, 6.599743699273815, 0.653276955602537, 2.6254443829451315)\n",
      "('(5.419, 8.177]_Arousal', ('(5.6, 8.371]_Dominance', '(6.088, 8.647]_Valence', 'Neutral'), 297, 6.3434429730884245, 0.6252631578947369, 2.5021214574898787)\n",
      "('(5.419, 8.177]_Arousal', ('(5.6, 8.371]_Dominance', '(6.088, 8.647]_Valence'), 501, 10.700555318240069, 0.6997206703910615, 2.800078785274316)\n",
      "('(6.088, 8.647]_Valence', ('(5.6, 8.371]_Dominance', '(5.419, 8.177]_Arousal'), 501, 10.700555318240069, 0.7952380952380952, 3.185034013605442)\n",
      "('(5.6, 8.371]_Dominance', ('(6.088, 8.647]_Valence', '(5.419, 8.177]_Arousal'), 501, 10.700555318240069, 0.740029542097489, 2.9740929751935132)\n",
      "('Neutral', ('(5.6, 8.371]_Dominance', '(6.088, 8.647]_Valence'), 475, 10.145237078171721, 0.6634078212290503, 0.7782699621634711)\n",
      "('Neutral', ('(5.6, 8.371]_Dominance', '(5.419, 8.177]_Arousal'), 416, 8.88509184109355, 0.6603174603174603, 0.774644537510987)\n",
      "('(2.056, 3.849]_Arousal', ('(4.529, 5.123]_Dominance', '(4.115, 5.29]_Valence', 'Neutral'), 297, 6.3434429730884245, 0.6136363636363636, 2.4163544613502563)\n",
      "('(2.056, 3.849]_Arousal', ('(4.529, 5.123]_Dominance', '(4.115, 5.29]_Valence'), 305, 6.514310123878684, 0.6075697211155379, 2.392465461953699)\n",
      "('Neutral', ('(4.529, 5.123]_Dominance', '(4.115, 5.29]_Valence'), 484, 10.337462622810763, 0.9641434262948207, 1.1310747987753322)\n",
      "('(1.635, 3.242]_Concreteness', ('(5.152, 6.971]_Aoa', '(1.7360000000000002, 3.519]_Imageability'), 381, 8.13754805638616, 0.7229601518026565, 2.8856772640580033)\n",
      "('(1.7360000000000002, 3.519]_Imageability', ('(5.152, 6.971]_Aoa', '(1.635, 3.242]_Concreteness'), 381, 8.13754805638616, 0.7987421383647799, 3.1936043482697687)\n",
      "('(1.6460000000000001, 4.706]_Familiarity', ('(5.152, 6.971]_Aoa', '(1.7360000000000002, 3.519]_Imageability'), 331, 7.0696283639470305, 0.6280834914611005, 2.5027122612943598)\n",
      "('Neutral', ('(5.152, 6.971]_Aoa', '(1.7360000000000002, 3.519]_Imageability'), 429, 9.162750961127724, 0.8140417457305503, 0.9549845786796383)\n",
      "('(5.152, 6.971]_Aoa', ('(4.1049999999999995, 6.223]_log_fre', '(1.6460000000000001, 4.706]_Familiarity', 'Neutral'), 360, 7.689021785561725, 0.6474820143884892, 2.5976956224223704)\n",
      "('(1.6460000000000001, 4.706]_Familiarity', ('(5.152, 6.971]_Aoa', '(4.1049999999999995, 6.223]_log_fre'), 415, 8.863733447244767, 0.7713754646840149, 3.0736850431068574)\n",
      "('(5.152, 6.971]_Aoa', ('(4.1049999999999995, 6.223]_log_fre', '(1.6460000000000001, 4.706]_Familiarity'), 415, 8.863733447244767, 0.6566455696202531, 2.634459774603278)\n",
      "('Neutral', ('(5.152, 6.971]_Aoa', '(4.1049999999999995, 6.223]_log_fre'), 446, 9.525843656557027, 0.828996282527881, 0.9725283374581656)\n",
      "('Neutral', ('(5.152, 6.971]_Aoa', '(1.635, 3.242]_Concreteness'), 353, 7.539513028620249, 0.740041928721174, 0.8681724656157697)\n",
      "('Neutral', ('(5.152, 6.971]_Aoa', '(1.6460000000000001, 4.706]_Familiarity'), 626, 13.37035454933789, 0.8930099857346647, 1.0476253453294162)\n",
      "('(1.6460000000000001, 4.706]_Familiarity', ('(5.152, 6.971]_Aoa', 'Neutral'), 626, 13.37035454933789, 0.6204162537165511, 2.4721607658730997)\n",
      "('Neutral', ('(4.677, 6.032]_Imageability', '(4.471, 5.971]_Concreteness'), 718, 15.335326783425888, 0.9361147327249022, 1.0981932294206946)\n",
      "('(4.471, 5.971]_Concreteness', ('(4.677, 6.032]_Imageability', 'Neutral'), 718, 15.335326783425888, 0.6890595009596929, 2.7410166384819727)\n",
      "('(4.677, 6.032]_Imageability', ('(4.471, 5.971]_Concreteness', 'Neutral'), 718, 15.335326783425888, 0.6515426497277677, 2.6117488750217537)\n",
      "('(5.419, 8.177]_Arousal', ('(6.088, 8.647]_Valence', '(5.969, 6.939]_Familiarity'), 296, 6.322084579239641, 0.6257928118393234, 2.5042409786595834)\n",
      "('Neutral', ('(6.088, 8.647]_Valence', '(5.969, 6.939]_Familiarity'), 322, 6.877402819307989, 0.6807610993657506, 0.7986277793110609)\n",
      "('Neutral', ('(6.088, 8.647]_Valence', '(5.419, 8.177]_Arousal'), 449, 9.589918838103374, 0.6632200886262924, 0.7780497256197197)\n",
      "('Neutral', ('(6.088, 8.647]_Valence', '(0.999, 3.606]_Gender'), 440, 9.397693293464332, 0.7028753993610224, 0.8245709395661004)\n",
      "('Neutral', ('(3.242, 4.471]_Concreteness', '(3.519, 4.677]_Imageability'), 523, 11.170439982913285, 0.855973813420622, 1.004176746287986)\n",
      "('(1.2180000000000002, 3.114]_Aoa', ('(5.969, 6.939]_Familiarity', '(7.35, 9.306]_log_fre', 'Neutral'), 346, 7.3900042716787695, 0.6705426356589147, 2.6787377305077125)\n",
      "('(1.2180000000000002, 3.114]_Aoa', ('(5.969, 6.939]_Familiarity', '(7.35, 9.306]_log_fre'), 412, 8.799658265698419, 0.6645161290322581, 2.654662556424089)\n",
      "('(5.969, 6.939]_Familiarity', ('(7.35, 9.306]_log_fre', '(1.2180000000000002, 3.114]_Aoa'), 412, 8.799658265698419, 0.8289738430583501, 3.317312421537774)\n",
      "('Neutral', ('(5.969, 6.939]_Familiarity', '(7.35, 9.306]_log_fre'), 516, 11.020931225971808, 0.832258064516129, 0.9763548629577841)\n",
      "('Neutral', ('(5.969, 6.939]_Familiarity', '(1.2180000000000002, 3.114]_Aoa'), 600, 12.815036309269543, 0.8287292817679558, 0.9722151083030742)\n",
      "('(1.2180000000000002, 3.114]_Aoa', ('(5.969, 6.939]_Familiarity', 'Neutral'), 600, 12.815036309269543, 0.646551724137931, 2.582896904789926)\n",
      "('(6.032, 6.941]_Imageability', ('(1.2180000000000002, 3.114]_Aoa', '(1.374, 3.438]_Semsize'), 351, 7.496796240922683, 0.73125, 2.92625)\n",
      "('Neutral', ('(6.032, 6.941]_Imageability', '(1.2180000000000002, 3.114]_Aoa'), 601, 12.836394703118327, 0.9804241435562806, 1.1501743523253585)\n",
      "('Neutral', ('(6.032, 6.941]_Imageability', '(1.374, 3.438]_Semsize'), 587, 12.537377189235368, 0.9865546218487395, 1.1573662589566018)\n",
      "('Neutral', ('(6.032, 6.941]_Imageability', '(5.123, 5.6]_Dominance'), 480, 10.252029047415634, 0.995850622406639, 1.1682717649982168)\n",
      "('Neutral', ('(1.7360000000000002, 3.519]_Imageability', '(1.635, 3.242]_Concreteness'), 549, 11.725758222981632, 0.6769420468557337, 0.7941474977144939)\n",
      "('(1.635, 3.242]_Concreteness', ('(1.7360000000000002, 3.519]_Imageability', 'Neutral'), 549, 11.725758222981632, 0.6259977194982896, 2.4986541540417666)\n",
      "('(1.7360000000000002, 3.519]_Imageability', ('(1.635, 3.242]_Concreteness', 'Neutral'), 549, 11.725758222981632, 0.733957219251337, 2.9345753206957808)\n",
      "('(1.9400000000000002, 4.529]_Dominance', ('(4.1049999999999995, 6.223]_log_fre', '(1.0290000000000001, 4.115]_Valence'), 366, 7.817172148654421, 0.7334669338677354, 2.922631646271266)\n",
      "('Neutral', ('(4.1049999999999995, 6.223]_log_fre', '(1.0290000000000001, 4.115]_Valence'), 370, 7.902605724049551, 0.7414829659318637, 0.8698630033808534)\n",
      "('Neutral', ('(4.1049999999999995, 6.223]_log_fre', '(1.6460000000000001, 4.706]_Familiarity'), 556, 11.87526697992311, 0.879746835443038, 1.0320658189787781)\n",
      "('Neutral', ('(7.35, 9.306]_log_fre', '(1.2180000000000002, 3.114]_Aoa'), 421, 8.991883810337463, 0.8470824949698189, 0.9937459888370564)\n",
      "('Neutral', ('(1.0290000000000001, 4.115]_Valence', '(1.9400000000000002, 4.529]_Dominance'), 578, 12.345151644596326, 0.6922155688622754, 0.8120654706622835)\n",
      "('(1.9400000000000002, 4.529]_Dominance', ('(1.0290000000000001, 4.115]_Valence', 'Neutral'), 578, 12.345151644596326, 0.6880952380952381, 2.741839918946302)\n",
      "('(1.0290000000000001, 4.115]_Valence', ('(1.9400000000000002, 4.529]_Dominance', 'Neutral'), 578, 12.345151644596326, 0.6400885935769657, 2.559261140159994)\n",
      "('Neutral', ('(1.2180000000000002, 3.114]_Aoa', '(1.374, 3.438]_Semsize'), 459, 9.8035027765912, 0.95625, 1.1218147080932097)\n",
      "('Neutral', ('(1.374, 3.438]_Semsize', '(2.056, 3.849]_Arousal'), 509, 10.871422469030328, 0.9443413729128015, 1.1078442265040682)\n",
      "('Neutral', ('(4.115, 5.29]_Valence', '(2.056, 3.849]_Arousal'), 589, 12.580093976932934, 0.9800332778702163, 1.149715812324819)\n"
     ]
    }
   ],
   "source": [
    "#find all the rules dove è implicata la variabile target\n",
    "for r in rules:\n",
    "    if r[0] == 'Neutral' or 'Positive' or 'Negative':\n",
    "        print(r)\n"
   ]
  },
  {
   "cell_type": "code",
   "execution_count": 84,
   "id": "5767ca0d",
   "metadata": {},
   "outputs": [
    {
     "data": {
      "text/plain": [
       "('(6.032, 6.941]_Imageability',\n",
       " ('(5.971, 6.938]_Concreteness', '(5.29, 6.088]_Valence', 'Neutral'),\n",
       " 424,\n",
       " 9.05595899188381,\n",
       " 0.8888888888888888,\n",
       " 3.5570750237416906)"
      ]
     },
     "execution_count": 84,
     "metadata": {},
     "output_type": "execute_result"
    }
   ],
   "source": [
    "[r for r in rules if r[0] == 'Positive' or 'Negative' or 'Neutral'][0]"
   ]
  },
  {
   "cell_type": "code",
   "execution_count": 85,
   "id": "e8257809",
   "metadata": {},
   "outputs": [
    {
     "name": "stdout",
     "output_type": "stream",
     "text": [
      "to_predict: (6.032, 6.941]_Imageability\n",
      "how? ('(5.971, 6.938]_Concreteness', '(5.29, 6.088]_Valence', 'Neutral')\n"
     ]
    }
   ],
   "source": [
    "print( 'to_predict:', [r for r in rules if r[0] == 'Neutral' or 'Positive' or 'Negative'][0][0])\n",
    "print( 'how?', [r for r in rules if r[0] == 'Neutral' or 'Positive' or 'Negative'][0][1])"
   ]
  },
  {
   "cell_type": "code",
   "execution_count": 86,
   "id": "c3397d7e",
   "metadata": {},
   "outputs": [],
   "source": [
    "#overview\n",
    "filter_1 = []\n",
    "filter_2 = []\n",
    "filter_3 = []\n",
    "len_r = []\n",
    "for i in range(1, 20+1): #support values\n",
    "    len_r_wrt_i = []\n",
    "    for j in range(60, 80+1): #confidence\n",
    "        rules = apriori(X, target='r', supp=i, zmin=3, conf=j, report='aScl')\n",
    "        \n",
    "        len_r_wrt_i.append(len(rules)) # study your characteristics/properties here\n",
    "         \n",
    "        filter_1.append( len([item for item in max_itemsets if 'Positive' in item[0]])  )\n",
    "        filter_2.append( len([item for item in max_itemsets if 'Negative' in item[0]]) )\n",
    "        filter_3.append( len([item for item in max_itemsets if 'Neutral' in item[0]]) )\n",
    "        \n",
    "    len_r.append(len_r_wrt_i)"
   ]
  },
  {
   "cell_type": "code",
   "execution_count": 89,
   "id": "b556c174",
   "metadata": {},
   "outputs": [
    {
     "data": {
      "image/png": "[encoded data removed]",
      "text/plain": [
       "<Figure size 432x288 with 2 Axes>"
      ]
     },
     "metadata": {
      "needs_background": "light"
     },
     "output_type": "display_data"
    }
   ],
   "source": [
    "plt.imshow( len_r, cmap='Blues', alpha=0.8 )\n",
    "plt.xlabel('%support', fontsize=20)\n",
    "plt.ylabel('%confidence', fontsize=20)\n",
    "plt.xticks(fontsize=20)\n",
    "plt.yticks( np.arange(0,20+1,4), np.arange(60,80+1,4), fontsize=20  )\n",
    "plt.colorbar()\n",
    "\n",
    "plt.show()"
   ]
  },
  {
   "cell_type": "code",
   "execution_count": null,
   "id": "4b924ac3",
   "metadata": {},
   "outputs": [],
   "source": []
  }
 ],
 "metadata": {
  "kernelspec": {
   "display_name": "Python 3 (ipykernel)",
   "language": "python",
   "name": "python3"
  },
  "language_info": {
   "codemirror_mode": {
    "name": "ipython",
    "version": 3
   },
   "file_extension": ".py",
   "mimetype": "text/x-python",
   "name": "python",
   "nbconvert_exporter": "python",
   "pygments_lexer": "ipython3",
   "version": "3.9.7"
  }
 },
 "nbformat": 4,
 "nbformat_minor": 5
}
